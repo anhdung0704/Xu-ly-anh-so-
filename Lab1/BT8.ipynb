{
 "cells": [
  {
   "cell_type": "markdown",
   "id": "5a23a5dc",
   "metadata": {},
   "source": [
    "<!-- 8) Viết chương trình đổi màu RGB ngẫu nhiên của các hình trong thư mục Excercise. -->"
   ]
  },
  {
   "cell_type": "code",
   "execution_count": 1,
   "id": "82fb238a",
   "metadata": {},
   "outputs": [
    {
     "name": "stdout",
     "output_type": "stream",
     "text": [
      "Đã xử lý xong tất cả ảnh.\n"
     ]
    }
   ],
   "source": [
    "import numpy as np\n",
    "import imageio.v2 as iio\n",
    "import scipy.ndimage as sn\n",
    "import os\n",
    "import glob\n",
    "\n",
    "input_folder = 'Exercise'\n",
    "output_folder = 'Exercise_RandomRGB'\n",
    "os.makedirs(output_folder, exist_ok=True)\n",
    "\n",
    "image_paths = glob.glob(os.path.join(input_folder, '*'))\n",
    "\n",
    "for img_path in image_paths:\n",
    "    img = iio.imread(img_path)\n",
    "    \n",
    "    if img.ndim == 3:\n",
    "        denoised = np.zeros_like(img)\n",
    "        for c in range(3):\n",
    "            denoised[:, :, c] = sn.gaussian_filter(img[:, :, c], sigma=1)\n",
    "    else:\n",
    "        denoised = sn.gaussian_filter(img, sigma=1)\n",
    "    \n",
    "    if denoised.ndim == 3 and denoised.shape[2] == 3:\n",
    "        order = np.random.permutation([0, 1, 2])\n",
    "        random_rgb = denoised[:, :, order]\n",
    "    else:\n",
    "        random_rgb = denoised \n",
    "    \n",
    "    base_name = os.path.basename(img_path)\n",
    "    save_path = os.path.join(output_folder, f'randomRGB_{base_name}')\n",
    "    iio.imwrite(save_path, random_rgb.astype(np.uint8))\n",
    "\n",
    "print(\"Đã xử lý xong tất cả ảnh.\")"
   ]
  }
 ],
 "metadata": {
  "kernelspec": {
   "display_name": "Python 3",
   "language": "python",
   "name": "python3"
  },
  "language_info": {
   "codemirror_mode": {
    "name": "ipython",
    "version": 3
   },
   "file_extension": ".py",
   "mimetype": "text/x-python",
   "name": "python",
   "nbconvert_exporter": "python",
   "pygments_lexer": "ipython3",
   "version": "3.11.9"
  }
 },
 "nbformat": 4,
 "nbformat_minor": 5
}
