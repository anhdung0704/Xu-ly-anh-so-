{
 "cells": [
  {
   "cell_type": "markdown",
   "id": "0babaf82",
   "metadata": {},
   "source": [
    "<!-- 4) Viết chương trình nạp 1 ảnh, chuyển sang hệ màu HSV. -->"
   ]
  },
  {
   "cell_type": "markdown",
   "id": "d7a1673b",
   "metadata": {},
   "source": [
    "<!-- 4) Viết chương trình nạp 1 ảnh, chuyển sang hệ màu HSV. Lưu ảnh mới với kênh Hnew=1/3 Hold, Vnew=3/4 Vold -->"
   ]
  },
  {
   "cell_type": "code",
   "execution_count": 1,
   "id": "61a12aea",
   "metadata": {},
   "outputs": [],
   "source": [
    "import numpy as np\n",
    "import imageio.v2 as iio\n",
    "import colorsys\n",
    "\n",
    "img = iio.imread('baby.jpeg') / 255.0\n",
    "\n",
    "hsv_img = np.zeros_like(img)\n",
    "\n",
    "for i in range(img.shape[0]):\n",
    "    for j in range(img.shape[1]):\n",
    "        r, g, b = img[i, j]\n",
    "        h, s, v = colorsys.rgb_to_hsv(r, g, b)\n",
    "\n",
    "        h_new = 1/3\n",
    "        v_new = 0.75 * v\n",
    "        hsv_img[i, j] = [h_new, s, v_new]\n",
    "\n",
    "rgb_new = np.zeros_like(img)\n",
    "for i in range(img.shape[0]):\n",
    "    for j in range(img.shape[1]):\n",
    "        h, s, v = hsv_img[i, j]\n",
    "        r, g, b = colorsys.hsv_to_rgb(h, s, v)\n",
    "        rgb_new[i, j] = [r, g, b]\n",
    "\n",
    "rgb_new_img = (rgb_new * 255).astype(np.uint8)\n",
    "iio.imwrite('hsv_modified.jpg', rgb_new_img)"
   ]
  }
 ],
 "metadata": {
  "kernelspec": {
   "display_name": "Python 3",
   "language": "python",
   "name": "python3"
  },
  "language_info": {
   "codemirror_mode": {
    "name": "ipython",
    "version": 3
   },
   "file_extension": ".py",
   "mimetype": "text/x-python",
   "name": "python",
   "nbconvert_exporter": "python",
   "pygments_lexer": "ipython3",
   "version": "3.11.9"
  }
 },
 "nbformat": 4,
 "nbformat_minor": 5
}
