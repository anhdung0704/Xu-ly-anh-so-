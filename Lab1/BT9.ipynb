{
 "cells": [
  {
   "cell_type": "markdown",
   "id": "f7933fd4",
   "metadata": {},
   "source": [
    "<!-- 9) Viết chương trình đổi màu HSV ngẫu nhiên nhưng không trùng của các hình trong thư mục Exercise. -->"
   ]
  },
  {
   "cell_type": "code",
   "execution_count": null,
   "id": "3979948a",
   "metadata": {},
   "outputs": [],
   "source": [
    "import numpy as np\n",
    "import imageio.v2 as iio\n",
    "import scipy.ndimage as sn\n",
    "import os\n",
    "import glob\n",
    "import colorsys\n",
    "\n",
    "input_folder = 'Exercise'\n",
    "output_folder = 'Exercise_RandomHSV'\n",
    "os.makedirs(output_folder, exist_ok=True)\n",
    "\n",
    "image_paths = glob.glob(os.path.join(input_folder, '*'))\n",
    "\n",
    "# Tạo danh sách các hoán vị không trùng nhau cho số ảnh\n",
    "from itertools import permutations\n",
    "perm_list = list(permutations([0, 1, 2]))\n",
    "np.random.shuffle(perm_list)\n",
    "assert len(perm_list) >= len(image_paths), \"Số ảnh vượt quá số hoán vị kênh HSV!\"\n",
    "\n",
    "for idx, img_path in enumerate(image_paths):\n",
    "    img = iio.imread(img_path)\n",
    "    \n",
    "    if img.ndim == 3:\n",
    "        denoised = np.zeros_like(img)\n",
    "        for c in range(3):\n",
    "            denoised[:, :, c] = sn.gaussian_filter(img[:, :, c], sigma=1)\n",
    "    else:\n",
    "        denoised = sn.gaussian_filter(img, sigma=1)\n",
    "    \n",
    "    if denoised.ndim == 3 and denoised.shape[2] == 3:\n",
    "\n",
    "        img_norm = denoised / 255.0\n",
    "        hsv_img = np.zeros_like(img_norm)\n",
    "        for i in range(img_norm.shape[0]):\n",
    "            for j in range(img_norm.shape[1]):\n",
    "                hsv_img[i, j] = colorsys.rgb_to_hsv(*img_norm[i, j])\n",
    "\n",
    "        perm = perm_list[idx]\n",
    "        hsv_permuted = hsv_img[:, :, perm]\n",
    "\n",
    "        rgb_new = np.zeros_like(hsv_permuted)\n",
    "        for i in range(hsv_permuted.shape[0]):\n",
    "            for j in range(hsv_permuted.shape[1]):\n",
    "                rgb_new[i, j] = colorsys.hsv_to_rgb(*hsv_permuted[i, j])\n",
    "        rgb_new = (rgb_new * 255).astype(np.uint8)\n",
    "    else:\n",
    "        rgb_new = denoised\n",
    "    \n",
    "    base_name = os.path.basename(img_path)\n",
    "    save_path = os.path.join(output_folder, f'randomHSV_{base_name}')\n",
    "    iio.imwrite(save_path, rgb_new)\n",
    "\n",
    "print(\"Đã xử lý xong tất cả ảnh.\")  "
   ]
  }
 ],
 "metadata": {
  "kernelspec": {
   "display_name": "Python 3",
   "language": "python",
   "name": "python3"
  },
  "language_info": {
   "name": "python",
   "version": "3.11.9"
  }
 },
 "nbformat": 4,
 "nbformat_minor": 5
}
